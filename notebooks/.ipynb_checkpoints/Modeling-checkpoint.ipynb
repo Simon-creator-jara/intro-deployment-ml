{
 "cells": [
  {
   "cell_type": "markdown",
   "id": "43debe34",
   "metadata": {},
   "source": [
    "## Data Preparation"
   ]
  },
  {
   "cell_type": "code",
   "execution_count": 3,
   "id": "a042497d",
   "metadata": {},
   "outputs": [],
   "source": [
    "import pandas as pd"
   ]
  },
  {
   "cell_type": "code",
   "execution_count": 4,
   "id": "aeb45838",
   "metadata": {},
   "outputs": [],
   "source": [
    "movies_data_path = '../dataset/movies.csv'\n",
    "finantial_data_path = '../dataset/finantials.csv'\n",
    "opening_data_path = '../dataset/opening_gross.csv'"
   ]
  },
  {
   "cell_type": "code",
   "execution_count": 5,
   "id": "31c3b9ad",
   "metadata": {},
   "outputs": [],
   "source": [
    "fin_data = pd.read_csv(finantial_data_path)\n",
    "movie_data = pd.read_csv(movies_data_path)\n",
    "opening_data = pd.read_csv(opening_data_path)"
   ]
  },
  {
   "cell_type": "code",
   "execution_count": 6,
   "id": "0811c8b6",
   "metadata": {},
   "outputs": [],
   "source": [
    "numeric_columns_mask = (movie_data.dtypes == float) | (movie_data.dtypes == int)\n",
    "numeric_columns = [column for column in numeric_columns_mask.index if numeric_columns_mask[column]]\n",
    "movie_data = movie_data[numeric_columns+['movie_title']]"
   ]
  },
  {
   "cell_type": "code",
   "execution_count": 7,
   "id": "697ea2e2",
   "metadata": {},
   "outputs": [],
   "source": [
    "fin_data = fin_data[['movie_title','production_budget','worldwide_gross']]"
   ]
  },
  {
   "cell_type": "code",
   "execution_count": 8,
   "id": "ec9d0adc",
   "metadata": {},
   "outputs": [],
   "source": [
    "fin_movie_data = pd.merge(fin_data, movie_data, on= 'movie_title', how='left')"
   ]
  },
  {
   "cell_type": "code",
   "execution_count": 9,
   "id": "6ca13e79",
   "metadata": {},
   "outputs": [],
   "source": [
    "full_movie_data = pd.merge( opening_data,fin_movie_data, on = 'movie_title', how='left')"
   ]
  },
  {
   "cell_type": "code",
   "execution_count": 10,
   "id": "c372e153",
   "metadata": {},
   "outputs": [
    {
     "data": {
      "text/plain": [
       "(2304, 11)"
      ]
     },
     "execution_count": 10,
     "metadata": {},
     "output_type": "execute_result"
    }
   ],
   "source": [
    "full_movie_data[(full_movie_data.worldwide_gross != 0) & (full_movie_data.worldwide_gross.notnull())].shape"
   ]
  },
  {
   "cell_type": "code",
   "execution_count": 11,
   "id": "dbd03bcb",
   "metadata": {
    "scrolled": true
   },
   "outputs": [],
   "source": [
    "full_movie_data = full_movie_data.drop(['movie_title','gross'],axis=1)"
   ]
  },
  {
   "cell_type": "code",
   "execution_count": 12,
   "id": "68311214",
   "metadata": {},
   "outputs": [
    {
     "data": {
      "text/plain": [
       "Index(['opening_gross', 'screens', 'production_budget', 'worldwide_gross',\n",
       "       'title_year', 'aspect_ratio', 'duration', 'budget', 'imdb_score'],\n",
       "      dtype='object')"
      ]
     },
     "execution_count": 12,
     "metadata": {},
     "output_type": "execute_result"
    }
   ],
   "source": [
    "full_movie_data.columns"
   ]
  },
  {
   "cell_type": "markdown",
   "id": "3d855446",
   "metadata": {},
   "source": [
    "## Modeling"
   ]
  },
  {
   "cell_type": "code",
   "execution_count": 13,
   "id": "f9699a87",
   "metadata": {},
   "outputs": [],
   "source": [
    "from sklearn.model_selection import train_test_split\n",
    "from sklearn.pipeline import Pipeline\n",
    "from sklearn.impute import SimpleImputer\n",
    "from sklearn.ensemble import GradientBoostingRegressor\n",
    "from sklearn.model_selection import cross_validate\n",
    "import numpy as np"
   ]
  },
  {
   "cell_type": "code",
   "execution_count": 14,
   "id": "d6827e1b",
   "metadata": {},
   "outputs": [],
   "source": [
    "X = full_movie_data.drop(['worldwide_gross'], axis = 1)\n",
    "y = full_movie_data['worldwide_gross']"
   ]
  },
  {
   "cell_type": "code",
   "execution_count": 15,
   "id": "f943a690",
   "metadata": {},
   "outputs": [],
   "source": [
    "pipeline = Pipeline([\n",
    "    ('imputer', SimpleImputer(missing_values=np.nan, strategy='mean')),\n",
    "    ('core_model', GradientBoostingRegressor())\n",
    "])"
   ]
  },
  {
   "cell_type": "code",
   "execution_count": 16,
   "id": "cca7ef92",
   "metadata": {},
   "outputs": [
    {
     "data": {
      "text/plain": [
       "{'fit_time': array([0.35700512, 0.26731086, 0.29816914, 0.2673223 , 0.25420523,\n",
       "        0.29857159, 0.29302931, 0.26938081, 0.26848841, 0.29816747]),\n",
       " 'score_time': array([0.        , 0.        , 0.        , 0.00250483, 0.        ,\n",
       "        0.        , 0.00829315, 0.        , 0.01400876, 0.        ]),\n",
       " 'test_score': array([0.65978576, 0.84480191, 0.64131203, 0.7840134 , 0.7727712 ,\n",
       "        0.86270845, 0.76502825, 0.85694149, 0.67411832, 0.65285115]),\n",
       " 'train_score': array([0.91105346, 0.9140962 , 0.9183163 , 0.91613755, 0.91832576,\n",
       "        0.91492969, 0.91866643, 0.91378583, 0.9201035 , 0.91384172])}"
      ]
     },
     "execution_count": 16,
     "metadata": {},
     "output_type": "execute_result"
    }
   ],
   "source": [
    "results = cross_validate(pipeline ,X,y,return_train_score=True,cv=10)\n",
    "results"
   ]
  },
  {
   "cell_type": "code",
   "execution_count": 17,
   "id": "fbde089f",
   "metadata": {},
   "outputs": [
    {
     "name": "stdout",
     "output_type": "stream",
     "text": [
      "Train Score: 0.9159256441060745\n",
      "Test Score: 0.7514331951593828\n"
     ]
    }
   ],
   "source": [
    "train_score = np.mean(results['train_score'])\n",
    "test_score = np.mean(results['test_score'])\n",
    "assert train_score > 0.7\n",
    "assert test_score > 0.65\n",
    "print(f'Train Score: {train_score}')\n",
    "print(f'Test Score: {test_score}')"
   ]
  },
  {
   "cell_type": "markdown",
   "id": "2d780543",
   "metadata": {},
   "source": [
    "## Hyperparameter tunning"
   ]
  },
  {
   "cell_type": "code",
   "execution_count": 18,
   "id": "5827e6f5",
   "metadata": {},
   "outputs": [],
   "source": [
    "from sklearn.model_selection import GridSearchCV"
   ]
  },
  {
   "cell_type": "code",
   "execution_count": 19,
   "id": "da68e0fc",
   "metadata": {},
   "outputs": [],
   "source": [
    "param_tunning = {'core_model__n_estimators': range(20,501,20)} "
   ]
  },
  {
   "cell_type": "code",
   "execution_count": 20,
   "id": "193f0cd6",
   "metadata": {},
   "outputs": [],
   "source": [
    "estimator = Pipeline([\n",
    "    ('imputer', SimpleImputer(missing_values=np.nan, strategy='mean')),\n",
    "    ('core_model', GradientBoostingRegressor())\n",
    "])"
   ]
  },
  {
   "cell_type": "code",
   "execution_count": 21,
   "id": "b2e5d303",
   "metadata": {},
   "outputs": [],
   "source": [
    "grid_search= GridSearchCV(estimator,\n",
    "                       param_grid = param_tunning,\n",
    "                       scoring='r2',\n",
    "                       cv=5) "
   ]
  },
  {
   "cell_type": "code",
   "execution_count": 22,
   "id": "ba418e6f",
   "metadata": {},
   "outputs": [],
   "source": [
    "X_train, X_test, y_train, y_test = train_test_split(X,y, test_size = 0.35,random_state= 42)"
   ]
  },
  {
   "cell_type": "code",
   "execution_count": 23,
   "id": "95368333",
   "metadata": {},
   "outputs": [
    {
     "data": {
      "text/plain": [
       "GridSearchCV(cv=5,\n",
       "             estimator=Pipeline(steps=[('imputer', SimpleImputer()),\n",
       "                                       ('core_model',\n",
       "                                        GradientBoostingRegressor())]),\n",
       "             param_grid={'core_model__n_estimators': range(20, 501, 20)},\n",
       "             scoring='r2')"
      ]
     },
     "execution_count": 23,
     "metadata": {},
     "output_type": "execute_result"
    }
   ],
   "source": [
    "grid_search.fit(X_train, y_train)"
   ]
  },
  {
   "cell_type": "code",
   "execution_count": 24,
   "id": "f03a1dac",
   "metadata": {},
   "outputs": [],
   "source": [
    "final_result = cross_validate(grid_search.best_estimator_,X_train,y_train,return_train_score=True,cv=7)"
   ]
  },
  {
   "cell_type": "code",
   "execution_count": 25,
   "id": "461f63dd",
   "metadata": {},
   "outputs": [
    {
     "name": "stdout",
     "output_type": "stream",
     "text": [
      "Train Score: 0.95895885449701\n",
      "Test Score: 0.7690985214134776\n"
     ]
    }
   ],
   "source": [
    "train_score = np.mean(final_result['train_score'])\n",
    "test_score = np.mean(final_result['test_score'])\n",
    "assert train_score > 0.7\n",
    "assert test_score > 0.65\n",
    "print(f'Train Score: {train_score}')\n",
    "print(f'Test Score: {test_score}')"
   ]
  },
  {
   "cell_type": "code",
   "execution_count": 26,
   "id": "8c669f7d",
   "metadata": {},
   "outputs": [
    {
     "data": {
      "text/plain": [
       "{'memory': None,\n",
       " 'steps': [('imputer', SimpleImputer()),\n",
       "  ('core_model', GradientBoostingRegressor(n_estimators=180))],\n",
       " 'verbose': False,\n",
       " 'imputer': SimpleImputer(),\n",
       " 'core_model': GradientBoostingRegressor(n_estimators=180),\n",
       " 'imputer__add_indicator': False,\n",
       " 'imputer__copy': True,\n",
       " 'imputer__fill_value': None,\n",
       " 'imputer__missing_values': nan,\n",
       " 'imputer__strategy': 'mean',\n",
       " 'imputer__verbose': 0,\n",
       " 'core_model__alpha': 0.9,\n",
       " 'core_model__ccp_alpha': 0.0,\n",
       " 'core_model__criterion': 'friedman_mse',\n",
       " 'core_model__init': None,\n",
       " 'core_model__learning_rate': 0.1,\n",
       " 'core_model__loss': 'squared_error',\n",
       " 'core_model__max_depth': 3,\n",
       " 'core_model__max_features': None,\n",
       " 'core_model__max_leaf_nodes': None,\n",
       " 'core_model__min_impurity_decrease': 0.0,\n",
       " 'core_model__min_samples_leaf': 1,\n",
       " 'core_model__min_samples_split': 2,\n",
       " 'core_model__min_weight_fraction_leaf': 0.0,\n",
       " 'core_model__n_estimators': 180,\n",
       " 'core_model__n_iter_no_change': None,\n",
       " 'core_model__random_state': None,\n",
       " 'core_model__subsample': 1.0,\n",
       " 'core_model__tol': 0.0001,\n",
       " 'core_model__validation_fraction': 0.1,\n",
       " 'core_model__verbose': 0,\n",
       " 'core_model__warm_start': False}"
      ]
     },
     "execution_count": 26,
     "metadata": {},
     "output_type": "execute_result"
    }
   ],
   "source": [
    "grid_search.best_estimator_.get_params()"
   ]
  },
  {
   "cell_type": "code",
   "execution_count": 27,
   "id": "6d479277",
   "metadata": {},
   "outputs": [],
   "source": [
    "estimator = Pipeline([\n",
    "    ('imputer', SimpleImputer(missing_values=np.nan, strategy='mean')),\n",
    "    ('core_model', GradientBoostingRegressor(n_estimators=220,\n",
    "                                             alpha=0.9,\n",
    "                                             ccp_alpha=0.0,\n",
    "                                             criterion='friedman_mse',\n",
    "                                             init=None,\n",
    "                                             learning_rate=0.1,\n",
    "                                             loss='squared_error',\n",
    "                                             max_depth=3,\n",
    "                                             max_features=None,\n",
    "                                             max_leaf_nodes=None,\n",
    "                                             min_impurity_decrease=0.0,\n",
    "                                             min_samples_leaf=1,\n",
    "                                             min_samples_split=2,\n",
    "                                             min_weight_fraction_leaf=0.0,\n",
    "                                             n_iter_no_change=None,\n",
    "                                             random_state=None,\n",
    "                                             subsample=1.0,\n",
    "                                             tol=0.0001,\n",
    "                                             validation_fraction=0.1,\n",
    "                                             verbose=0,\n",
    "                                             warm_start=False))\n",
    "])"
   ]
  },
  {
   "cell_type": "code",
   "execution_count": 28,
   "id": "04e3c693",
   "metadata": {},
   "outputs": [
    {
     "data": {
      "text/plain": [
       "Pipeline(steps=[('imputer', SimpleImputer()),\n",
       "                ('core_model', GradientBoostingRegressor(n_estimators=220))])"
      ]
     },
     "execution_count": 28,
     "metadata": {},
     "output_type": "execute_result"
    }
   ],
   "source": [
    "estimator.fit(X_train,y_train)"
   ]
  },
  {
   "cell_type": "code",
   "execution_count": 29,
   "id": "45e1d10d",
   "metadata": {},
   "outputs": [
    {
     "data": {
      "text/plain": [
       "0.7416461578833062"
      ]
     },
     "execution_count": 29,
     "metadata": {},
     "output_type": "execute_result"
    }
   ],
   "source": [
    "estimator.score(X_test, y_test)"
   ]
  },
  {
   "cell_type": "markdown",
   "id": "a507f828",
   "metadata": {},
   "source": [
    "## Saving model"
   ]
  },
  {
   "cell_type": "code",
   "execution_count": 30,
   "id": "de4b0573",
   "metadata": {},
   "outputs": [],
   "source": [
    "from joblib import dump"
   ]
  },
  {
   "cell_type": "code",
   "execution_count": 31,
   "id": "88ca4771",
   "metadata": {},
   "outputs": [
    {
     "data": {
      "text/plain": [
       "['../model/model.pkl']"
      ]
     },
     "execution_count": 31,
     "metadata": {},
     "output_type": "execute_result"
    }
   ],
   "source": [
    "dump(estimator, '../model/model.pkl')"
   ]
  },
  {
   "cell_type": "code",
   "execution_count": 32,
   "id": "c1a1dbec",
   "metadata": {},
   "outputs": [
    {
     "data": {
      "text/plain": [
       "Index(['opening_gross', 'screens', 'production_budget', 'title_year',\n",
       "       'aspect_ratio', 'duration', 'budget', 'imdb_score'],\n",
       "      dtype='object')"
      ]
     },
     "execution_count": 32,
     "metadata": {},
     "output_type": "execute_result"
    }
   ],
   "source": [
    "X_train.columns"
   ]
  },
  {
   "cell_type": "code",
   "execution_count": null,
   "id": "934db30b-9c97-4ee9-a4d1-f6189dcbc0d2",
   "metadata": {},
   "outputs": [],
   "source": []
  }
 ],
 "metadata": {
  "kernelspec": {
   "display_name": "Python 3 (ipykernel)",
   "language": "python",
   "name": "python3"
  },
  "language_info": {
   "codemirror_mode": {
    "name": "ipython",
    "version": 3
   },
   "file_extension": ".py",
   "mimetype": "text/x-python",
   "name": "python",
   "nbconvert_exporter": "python",
   "pygments_lexer": "ipython3",
   "version": "3.9.13"
  }
 },
 "nbformat": 4,
 "nbformat_minor": 5
}
